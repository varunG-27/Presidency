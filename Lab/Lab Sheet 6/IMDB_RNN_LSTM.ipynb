{
  "nbformat": 4,
  "nbformat_minor": 0,
  "metadata": {
    "colab": {
      "name": "IMDB_RNN_1.ipynb",
      "version": "0.3.2",
      "provenance": [],
      "collapsed_sections": [],
      "include_colab_link": true
    },
    "kernelspec": {
      "name": "python3",
      "display_name": "Python 3"
    },
    "accelerator": "GPU"
  },
  "cells": [
    {
      "cell_type": "markdown",
      "metadata": {
        "id": "view-in-github",
        "colab_type": "text"
      },
      "source": [
        "[View in Colaboratory](https://colab.research.google.com/github/raahatg21/IMDB-Dataset-Sentiment-Analysis-with-Keras/blob/master/IMDB_RNN_1.ipynb)"
      ]
    },
    {
      "metadata": {
        "id": "6-KqeRU3JR26",
        "colab_type": "text"
      },
      "cell_type": "markdown",
      "source": [
        "# IMDB Dataset: Sentiment Analysis"
      ]
    },
    {
      "metadata": {
        "id": "EWj7CzoqJWyq",
        "colab_type": "text"
      },
      "cell_type": "markdown",
      "source": [
        "**Using LSTM Layers, and Word Embeddings. 89.56% Validation Accuracy. 87.9% Testing Accuracy.**"
      ]
    },
    {
      "metadata": {
        "id": "KTL-dNycJJvr",
        "colab_type": "code",
        "colab": {}
      },
      "cell_type": "code",
      "source": [
        "import numpy as np\n",
        "import matplotlib.pyplot as plt\n",
        "plt.style.use('ggplot')"
      ],
      "execution_count": 0,
      "outputs": []
    },
    {
      "metadata": {
        "id": "JmeaLOY4Jfr0",
        "colab_type": "code",
        "colab": {}
      },
      "cell_type": "code",
      "source": [
        "from keras.datasets import imdb\n",
        "from keras import models\n",
        "from keras import layers\n",
        "from keras.preprocessing.sequence import pad_sequences"
      ],
      "execution_count": 0,
      "outputs": []
    },
    {
      "metadata": {
        "id": "Jf5XtyZyKM1K",
        "colab_type": "code",
        "colab": {}
      },
      "cell_type": "code",
      "source": [
        "max_features = 10000  # Only include top 10,000 words in the vocabulary\n",
        "maxlen = 500  # Cut off each review after 500 words\n",
        "batch_size = 32"
      ],
      "execution_count": 0,
      "outputs": []
    },
    {
      "metadata": {
        "id": "Trigxal7KiJM",
        "colab_type": "code",
        "colab": {}
      },
      "cell_type": "code",
      "source": [
        "(X_train, y_train), (X_test, y_test) = imdb.load_data(num_words = max_features)"
      ],
      "execution_count": 0,
      "outputs": []
    },
    {
      "metadata": {
        "id": "7DfJswz2Krhz",
        "colab_type": "code",
        "colab": {
          "base_uri": "https://localhost:8080/",
          "height": 34
        },
        "outputId": "bc30ee72-dfe4-4663-9029-68d9729eed2b"
      },
      "cell_type": "code",
      "source": [
        "X_train.shape, X_test.shape"
      ],
      "execution_count": 8,
      "outputs": [
        {
          "output_type": "execute_result",
          "data": {
            "text/plain": [
              "((25000,), (25000,))"
            ]
          },
          "metadata": {
            "tags": []
          },
          "execution_count": 8
        }
      ]
    },
    {
      "metadata": {
        "id": "v0D-L9EgKweh",
        "colab_type": "code",
        "colab": {
          "base_uri": "https://localhost:8080/",
          "height": 34
        },
        "outputId": "1582433b-0b48-4da8-eab0-3494f349f805"
      },
      "cell_type": "code",
      "source": [
        "y_train[1], y_train[2], y_test[4]"
      ],
      "execution_count": 10,
      "outputs": [
        {
          "output_type": "execute_result",
          "data": {
            "text/plain": [
              "(0, 0, 1)"
            ]
          },
          "metadata": {
            "tags": []
          },
          "execution_count": 10
        }
      ]
    },
    {
      "metadata": {
        "id": "4mhQgzzLK1Wz",
        "colab_type": "code",
        "colab": {}
      },
      "cell_type": "code",
      "source": [
        "# Padding the data so that each sequence is of exactly 500 words\n",
        "\n",
        "X_train = pad_sequences(X_train, maxlen = maxlen)\n",
        "X_test = pad_sequences(X_test, maxlen = maxlen)"
      ],
      "execution_count": 0,
      "outputs": []
    },
    {
      "metadata": {
        "id": "4l8fxw7wLFQa",
        "colab_type": "code",
        "colab": {
          "base_uri": "https://localhost:8080/",
          "height": 34
        },
        "outputId": "d4090482-c6ba-4085-9332-e7974ccf06e3"
      },
      "cell_type": "code",
      "source": [
        "X_train.shape, X_test.shape"
      ],
      "execution_count": 12,
      "outputs": [
        {
          "output_type": "execute_result",
          "data": {
            "text/plain": [
              "((25000, 500), (25000, 500))"
            ]
          },
          "metadata": {
            "tags": []
          },
          "execution_count": 12
        }
      ]
    },
    {
      "metadata": {
        "id": "CXjY2rLDLKfY",
        "colab_type": "code",
        "colab": {}
      },
      "cell_type": "code",
      "source": [
        "# Building the Model\n",
        "\n",
        "model = models.Sequential()\n",
        "model.add(layers.Embedding(max_features, 32, input_length = maxlen))\n",
        "model.add(layers.Dropout(0.2))\n",
        "model.add(layers.CuDNNLSTM(32))  # return_sequences = False\n",
        "model.add(layers.Dense(1, activation = 'sigmoid'))"
      ],
      "execution_count": 0,
      "outputs": []
    },
    {
      "metadata": {
        "id": "k5JX8a7rLtI5",
        "colab_type": "text"
      },
      "cell_type": "markdown",
      "source": [
        "Since CuDNN doesn't support dropout and recurrent_dropout, we couldn't write the following:\n",
        "\n",
        "```\n",
        "model.add(layers.CuDNNLSTM(32, dropout = 0.1, recurrent_dropout = 0.5))\n",
        "```\n",
        "Hence, our model will be inferior in case of small datasets: \n",
        "https://github.com/keras-team/keras/issues/8935\n"
      ]
    },
    {
      "metadata": {
        "id": "OWbAd9LKLmsj",
        "colab_type": "code",
        "colab": {
          "base_uri": "https://localhost:8080/",
          "height": 278
        },
        "outputId": "1767397d-ba2b-4f67-f41d-444d3e22c1c3"
      },
      "cell_type": "code",
      "source": [
        "model.summary()"
      ],
      "execution_count": 15,
      "outputs": [
        {
          "output_type": "stream",
          "text": [
            "_________________________________________________________________\n",
            "Layer (type)                 Output Shape              Param #   \n",
            "=================================================================\n",
            "embedding_1 (Embedding)      (None, 500, 32)           320000    \n",
            "_________________________________________________________________\n",
            "dropout_1 (Dropout)          (None, 500, 32)           0         \n",
            "_________________________________________________________________\n",
            "cu_dnnlstm_1 (CuDNNLSTM)     (None, 32)                8448      \n",
            "_________________________________________________________________\n",
            "dense_1 (Dense)              (None, 1)                 33        \n",
            "=================================================================\n",
            "Total params: 328,481\n",
            "Trainable params: 328,481\n",
            "Non-trainable params: 0\n",
            "_________________________________________________________________\n"
          ],
          "name": "stdout"
        }
      ]
    },
    {
      "metadata": {
        "id": "TX5WXkfQMQJ9",
        "colab_type": "code",
        "colab": {}
      },
      "cell_type": "code",
      "source": [
        "# Compiling the Model\n",
        "\n",
        "model.compile(loss = 'binary_crossentropy', optimizer = 'rmsprop', metrics = ['acc'])"
      ],
      "execution_count": 0,
      "outputs": []
    },
    {
      "metadata": {
        "id": "LxUCCNLpMYV1",
        "colab_type": "code",
        "colab": {
          "base_uri": "https://localhost:8080/",
          "height": 555
        },
        "outputId": "e4e61715-d9a8-4ace-9656-3b684f556a3c"
      },
      "cell_type": "code",
      "source": [
        "# Training\n",
        "\n",
        "history = model.fit(X_train, y_train, batch_size = batch_size, epochs = 15, validation_split = 0.2)"
      ],
      "execution_count": 17,
      "outputs": [
        {
          "output_type": "stream",
          "text": [
            "Train on 20000 samples, validate on 5000 samples\n",
            "Epoch 1/15\n",
            "20000/20000 [==============================] - 45s 2ms/step - loss: 0.4663 - acc: 0.7794 - val_loss: 0.3540 - val_acc: 0.8506\n",
            "Epoch 2/15\n",
            "20000/20000 [==============================] - 44s 2ms/step - loss: 0.2933 - acc: 0.8856 - val_loss: 0.2991 - val_acc: 0.8822\n",
            "Epoch 3/15\n",
            "20000/20000 [==============================] - 44s 2ms/step - loss: 0.2455 - acc: 0.9077 - val_loss: 0.2952 - val_acc: 0.8896\n",
            "Epoch 4/15\n",
            "20000/20000 [==============================] - 44s 2ms/step - loss: 0.2159 - acc: 0.9199 - val_loss: 0.2761 - val_acc: 0.8846\n",
            "Epoch 5/15\n",
            "20000/20000 [==============================] - 44s 2ms/step - loss: 0.1969 - acc: 0.9284 - val_loss: 0.2761 - val_acc: 0.8850\n",
            "Epoch 6/15\n",
            "20000/20000 [==============================] - 44s 2ms/step - loss: 0.1844 - acc: 0.9315 - val_loss: 0.2917 - val_acc: 0.8746\n",
            "Epoch 7/15\n",
            "20000/20000 [==============================] - 44s 2ms/step - loss: 0.1718 - acc: 0.9378 - val_loss: 0.5046 - val_acc: 0.8248\n",
            "Epoch 8/15\n",
            "20000/20000 [==============================] - 44s 2ms/step - loss: 0.1630 - acc: 0.9426 - val_loss: 0.3383 - val_acc: 0.8876\n",
            "Epoch 9/15\n",
            "20000/20000 [==============================] - 44s 2ms/step - loss: 0.1519 - acc: 0.9463 - val_loss: 0.3080 - val_acc: 0.8864\n",
            "Epoch 10/15\n",
            "20000/20000 [==============================] - 44s 2ms/step - loss: 0.1457 - acc: 0.9489 - val_loss: 0.2949 - val_acc: 0.8922\n",
            "Epoch 11/15\n",
            "20000/20000 [==============================] - 44s 2ms/step - loss: 0.1421 - acc: 0.9499 - val_loss: 0.3046 - val_acc: 0.8924\n",
            "Epoch 12/15\n",
            "20000/20000 [==============================] - 44s 2ms/step - loss: 0.1342 - acc: 0.9529 - val_loss: 0.3183 - val_acc: 0.8944\n",
            "Epoch 13/15\n",
            "20000/20000 [==============================] - 43s 2ms/step - loss: 0.1287 - acc: 0.9545 - val_loss: 0.2890 - val_acc: 0.8944\n",
            "Epoch 14/15\n",
            "20000/20000 [==============================] - 43s 2ms/step - loss: 0.1220 - acc: 0.9574 - val_loss: 0.3003 - val_acc: 0.8956\n",
            "Epoch 15/15\n",
            "20000/20000 [==============================] - 44s 2ms/step - loss: 0.1168 - acc: 0.9588 - val_loss: 0.2961 - val_acc: 0.8936\n"
          ],
          "name": "stdout"
        }
      ]
    },
    {
      "metadata": {
        "id": "KRnbubPqMkFA",
        "colab_type": "code",
        "colab": {}
      },
      "cell_type": "code",
      "source": [
        "loss = history.history['loss']\n",
        "val_loss = history.history['val_loss']\n",
        "acc = history.history['acc']\n",
        "val_acc = history.history['val_acc']"
      ],
      "execution_count": 0,
      "outputs": []
    },
    {
      "metadata": {
        "id": "gLyrVaZHMyUL",
        "colab_type": "code",
        "colab": {
          "base_uri": "https://localhost:8080/",
          "height": 363
        },
        "outputId": "1b595036-5238-4954-cf01-201de260b680"
      },
      "cell_type": "code",
      "source": [
        "# Plotting Training and Validation Loss\n",
        "\n",
        "epochs = range(1, 16)\n",
        "\n",
        "plt.plot(epochs, loss, 'yo', label = 'Training Loss')\n",
        "plt.plot(epochs, val_loss, 'y', label = 'Validation Loss')\n",
        "plt.xlabel('Epochs')\n",
        "plt.ylabel('Loss')\n",
        "plt.legend()\n",
        "plt.show()"
      ],
      "execution_count": 19,
      "outputs": [
        {
          "output_type": "display_data",
          "data": {
            "image/png": "[encoded data removed]",
            "text/plain": [
              "<matplotlib.figure.Figure at 0x7fc4ff7909e8>"
            ]
          },
          "metadata": {
            "tags": []
          }
        }
      ]
    },
    {
      "metadata": {
        "id": "HiZwatx-M231",
        "colab_type": "code",
        "colab": {
          "base_uri": "https://localhost:8080/",
          "height": 363
        },
        "outputId": "21a4a807-5573-4e36-f42a-f9852505ddad"
      },
      "cell_type": "code",
      "source": [
        "# Plotting Training and Validation Accuracy\n",
        "\n",
        "plt.plot(epochs, acc, 'co', label = 'Training Accuarcy')\n",
        "plt.plot(epochs, val_acc, 'c', label = 'Validation Accuracy')\n",
        "plt.xlabel('Epochs')\n",
        "plt.ylabel('Accuracy')\n",
        "plt.legend()\n",
        "plt.show()"
      ],
      "execution_count": 20,
      "outputs": [
        {
          "output_type": "display_data",
          "data": {
            "image/png": "[encoded data removed]",
            "text/plain": [
              "<matplotlib.figure.Figure at 0x7fc4fed66cf8>"
            ]
          },
          "metadata": {
            "tags": []
          }
        }
      ]
    },
    {
      "metadata": {
        "id": "ovnIT6M9M5B2",
        "colab_type": "code",
        "colab": {
          "base_uri": "https://localhost:8080/",
          "height": 52
        },
        "outputId": "89248704-fb92-4c47-82cf-53a96fd2b6f6"
      },
      "cell_type": "code",
      "source": [
        "# Testing\n",
        "\n",
        "model.evaluate(X_test, y_test)"
      ],
      "execution_count": 21,
      "outputs": [
        {
          "output_type": "stream",
          "text": [
            "25000/25000 [==============================] - 24s 965us/step\n"
          ],
          "name": "stdout"
        },
        {
          "output_type": "execute_result",
          "data": {
            "text/plain": [
              "[0.33416910270094874, 0.87944]"
            ]
          },
          "metadata": {
            "tags": []
          },
          "execution_count": 21
        }
      ]
    }
  ]
}
