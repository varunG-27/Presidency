{
  "nbformat": 4,
  "nbformat_minor": 0,
  "metadata": {
    "colab": {
      "provenance": []
    },
    "kernelspec": {
      "name": "python3",
      "display_name": "Python 3"
    },
    "accelerator": "GPU"
  },
  "cells": [
    {
      "cell_type": "markdown",
      "metadata": {
        "id": "view-in-github"
      },
      "source": [
        "[View in Colaboratory](https://colab.research.google.com/github/raahatg21/IMDB-Dataset-Sentiment-Analysis-with-Keras/blob/master/IMDB_RNN_2.ipynb)"
      ]
    },
    {
      "metadata": {
        "id": "Sr9oR1A9RdN-"
      },
      "cell_type": "markdown",
      "source": [
        "# IMDB Dataset: Sentiement Analysis"
      ]
    },
    {
      "metadata": {
        "id": "PyyNV6hARgrq"
      },
      "cell_type": "markdown",
      "source": [
        "**Using 1D Convnets + GRU layers, and Word Embeddings. 88.78% Validation Accuracy. 85.34% Testing Accuracy.**"
      ]
    },
    {
      "metadata": {
        "id": "2VHVcJd2RZh7"
      },
      "cell_type": "code",
      "source": [
        "import numpy as np\n",
        "import matplotlib.pyplot as plt\n",
        "plt.style.use('fivethirtyeight')"
      ],
      "execution_count": null,
      "outputs": []
    },
    {
      "metadata": {
        "id": "DKzUnj7dRnJD",
        "colab": {
          "base_uri": "https://localhost:8080/",
          "height": 34
        },
        "outputId": "b29a593a-a5a5-4a41-d743-a03e8f3ba038"
      },
      "cell_type": "code",
      "source": [
        "from keras.datasets import imdb\n",
        "from keras import models\n",
        "from keras import layers\n",
        "from keras.preprocessing.sequence import pad_sequences"
      ],
      "execution_count": null,
      "outputs": [
        {
          "output_type": "stream",
          "text": [
            "Using TensorFlow backend.\n"
          ],
          "name": "stderr"
        }
      ]
    },
    {
      "metadata": {
        "id": "wDbPhN64SFur"
      },
      "cell_type": "code",
      "source": [
        "max_features = 10000  # Only include top 10,000 words in the vocabulary\n",
        "maxlen = 500  # Cut off each review after 500 words\n",
        "batch_size = 32"
      ],
      "execution_count": null,
      "outputs": []
    },
    {
      "metadata": {
        "id": "j_uA39s9SIeU"
      },
      "cell_type": "code",
      "source": [
        "(X_train, y_train), (X_test, y_test) = imdb.load_data(num_words = max_features)"
      ],
      "execution_count": null,
      "outputs": []
    },
    {
      "metadata": {
        "id": "qfqyh606SKBP",
        "colab": {
          "base_uri": "https://localhost:8080/",
          "height": 34
        },
        "outputId": "ad8e0d37-22c2-4d2d-ee76-7c99bf1fc3ec"
      },
      "cell_type": "code",
      "source": [
        "X_train.shape, X_test.shape"
      ],
      "execution_count": null,
      "outputs": [
        {
          "output_type": "execute_result",
          "data": {
            "text/plain": [
              "((25000,), (25000,))"
            ]
          },
          "metadata": {
            "tags": []
          },
          "execution_count": 6
        }
      ]
    },
    {
      "metadata": {
        "id": "StfRSygoSL_F",
        "colab": {
          "base_uri": "https://localhost:8080/",
          "height": 34
        },
        "outputId": "9d194caa-b61f-4d0d-d1c6-797f11ef0daa"
      },
      "cell_type": "code",
      "source": [
        "y_train[1], y_train[2], y_test[4]"
      ],
      "execution_count": null,
      "outputs": [
        {
          "output_type": "execute_result",
          "data": {
            "text/plain": [
              "(0, 0, 1)"
            ]
          },
          "metadata": {
            "tags": []
          },
          "execution_count": 7
        }
      ]
    },
    {
      "metadata": {
        "id": "8Tiozc3YSNkO"
      },
      "cell_type": "code",
      "source": [
        "# Padding the data so that each sequence is of exactly 500 words\n",
        "\n",
        "X_train = pad_sequences(X_train, maxlen = maxlen)\n",
        "X_test = pad_sequences(X_test, maxlen = maxlen)"
      ],
      "execution_count": null,
      "outputs": []
    },
    {
      "metadata": {
        "id": "p30W4aSCSO8m",
        "colab": {
          "base_uri": "https://localhost:8080/",
          "height": 34
        },
        "outputId": "0e27c5f5-5569-4040-8654-9e5020208fbe"
      },
      "cell_type": "code",
      "source": [
        "X_train.shape, X_test.shape"
      ],
      "execution_count": null,
      "outputs": [
        {
          "output_type": "execute_result",
          "data": {
            "text/plain": [
              "((25000, 500), (25000, 500))"
            ]
          },
          "metadata": {
            "tags": []
          },
          "execution_count": 9
        }
      ]
    },
    {
      "metadata": {
        "id": "TmkxHb_WSQdG"
      },
      "cell_type": "code",
      "source": [
        "# Building the Model\n",
        "\n",
        "model = models.Sequential()\n",
        "model.add(layers.Embedding(max_features, 32, input_length = maxlen))\n",
        "model.add(layers.Conv1D(32, 5, activation = 'relu'))\n",
        "model.add(layers.MaxPooling1D(3))\n",
        "model.add(layers.Conv1D(32, 5, activation = 'relu'))\n",
        "model.add(layers.MaxPooling1D(3))\n",
        "model.add(layers.Dropout(0.2))\n",
        "model.add(layers.CuDNNGRU(32))  # return_sequences = False\n",
        "model.add(layers.Dense(1, activation = 'sigmoid'))"
      ],
      "execution_count": null,
      "outputs": []
    },
    {
      "metadata": {
        "id": "FwSLCcovTjaL"
      },
      "cell_type": "markdown",
      "source": [
        "Since CuDNN doesn't support dropout and recurrent_dropout, we couldn't write the following:\n",
        "\n",
        "model.add(layers.CuDNNLSTM(32, dropout = 0.1, recurrent_dropout = 0.5))\n",
        "\n",
        "Hence, our model will be inferior in case of small datasets: https://github.com/keras-team/keras/issues/8935\n"
      ]
    },
    {
      "metadata": {
        "id": "8eIp0IxmTP0G",
        "colab": {
          "base_uri": "https://localhost:8080/",
          "height": 416
        },
        "outputId": "ee4167bc-6ff5-4202-86a4-3c816f341888"
      },
      "cell_type": "code",
      "source": [
        "model.summary()"
      ],
      "execution_count": null,
      "outputs": [
        {
          "output_type": "stream",
          "text": [
            "_________________________________________________________________\n",
            "Layer (type)                 Output Shape              Param #   \n",
            "=================================================================\n",
            "embedding_2 (Embedding)      (None, 500, 32)           320000    \n",
            "_________________________________________________________________\n",
            "conv1d_1 (Conv1D)            (None, 496, 32)           5152      \n",
            "_________________________________________________________________\n",
            "max_pooling1d_1 (MaxPooling1 (None, 165, 32)           0         \n",
            "_________________________________________________________________\n",
            "conv1d_2 (Conv1D)            (None, 161, 32)           5152      \n",
            "_________________________________________________________________\n",
            "max_pooling1d_2 (MaxPooling1 (None, 53, 32)            0         \n",
            "_________________________________________________________________\n",
            "dropout_1 (Dropout)          (None, 53, 32)            0         \n",
            "_________________________________________________________________\n",
            "cu_dnngru_1 (CuDNNGRU)       (None, 32)                6336      \n",
            "_________________________________________________________________\n",
            "dense_1 (Dense)              (None, 1)                 33        \n",
            "=================================================================\n",
            "Total params: 336,673\n",
            "Trainable params: 336,673\n",
            "Non-trainable params: 0\n",
            "_________________________________________________________________\n"
          ],
          "name": "stdout"
        }
      ]
    },
    {
      "metadata": {
        "id": "g1-jRIoOTbSg"
      },
      "cell_type": "code",
      "source": [
        "# Compiling the Model\n",
        "\n",
        "model.compile(loss = 'binary_crossentropy', optimizer = 'rmsprop', metrics = ['acc'])# Compiling the Model"
      ],
      "execution_count": null,
      "outputs": []
    },
    {
      "metadata": {
        "id": "pyOdbvZ8Tm0g",
        "colab": {
          "base_uri": "https://localhost:8080/",
          "height": 555
        },
        "outputId": "c0dd59ad-f15c-4c63-de54-0dd9cdebcb13"
      },
      "cell_type": "code",
      "source": [
        "# Training\n",
        "\n",
        "history = model.fit(X_train, y_train, batch_size = batch_size, epochs = 15, validation_split = 0.2)"
      ],
      "execution_count": null,
      "outputs": [
        {
          "output_type": "stream",
          "text": [
            "Train on 20000 samples, validate on 5000 samples\n",
            "Epoch 1/15\n",
            "20000/20000 [==============================] - 16s 783us/step - loss: 0.4472 - acc: 0.7695 - val_loss: 0.3064 - val_acc: 0.8740\n",
            "Epoch 2/15\n",
            "20000/20000 [==============================] - 13s 672us/step - loss: 0.2504 - acc: 0.9019 - val_loss: 0.2967 - val_acc: 0.8806\n",
            "Epoch 3/15\n",
            "20000/20000 [==============================] - 13s 668us/step - loss: 0.1926 - acc: 0.9276 - val_loss: 0.2764 - val_acc: 0.8878\n",
            "Epoch 4/15\n",
            "20000/20000 [==============================] - 13s 674us/step - loss: 0.1542 - acc: 0.9434 - val_loss: 0.2954 - val_acc: 0.8926\n",
            "Epoch 5/15\n",
            "20000/20000 [==============================] - 13s 674us/step - loss: 0.1227 - acc: 0.9563 - val_loss: 0.3444 - val_acc: 0.8780\n",
            "Epoch 6/15\n",
            "20000/20000 [==============================] - 14s 677us/step - loss: 0.0939 - acc: 0.9669 - val_loss: 0.3279 - val_acc: 0.8868\n",
            "Epoch 7/15\n",
            "20000/20000 [==============================] - 14s 679us/step - loss: 0.0634 - acc: 0.9796 - val_loss: 0.3806 - val_acc: 0.8754\n",
            "Epoch 8/15\n",
            "20000/20000 [==============================] - 14s 677us/step - loss: 0.0423 - acc: 0.9873 - val_loss: 0.5543 - val_acc: 0.8448\n",
            "Epoch 9/15\n",
            "20000/20000 [==============================] - 14s 676us/step - loss: 0.0278 - acc: 0.9922 - val_loss: 0.5591 - val_acc: 0.8614\n",
            "Epoch 10/15\n",
            "20000/20000 [==============================] - 14s 676us/step - loss: 0.0176 - acc: 0.9950 - val_loss: 0.6101 - val_acc: 0.8746\n",
            "Epoch 11/15\n",
            "20000/20000 [==============================] - 14s 681us/step - loss: 0.0096 - acc: 0.9970 - val_loss: 0.6578 - val_acc: 0.8708\n",
            "Epoch 12/15\n",
            "20000/20000 [==============================] - 13s 674us/step - loss: 0.0095 - acc: 0.9977 - val_loss: 0.8799 - val_acc: 0.8644\n",
            "Epoch 13/15\n",
            "20000/20000 [==============================] - 13s 672us/step - loss: 0.0047 - acc: 0.9989 - val_loss: 0.8445 - val_acc: 0.8710\n",
            "Epoch 14/15\n",
            "20000/20000 [==============================] - 13s 673us/step - loss: 0.0028 - acc: 0.9994 - val_loss: 1.0973 - val_acc: 0.8720\n",
            "Epoch 15/15\n",
            "20000/20000 [==============================] - 14s 691us/step - loss: 0.0031 - acc: 0.9994 - val_loss: 1.1623 - val_acc: 0.8762\n"
          ],
          "name": "stdout"
        }
      ]
    },
    {
      "metadata": {
        "id": "pOisAUTsTqwL"
      },
      "cell_type": "code",
      "source": [
        "loss = history.history['loss']\n",
        "val_loss = history.history['val_loss']\n",
        "acc = history.history['acc']\n",
        "val_acc = history.history['val_acc']"
      ],
      "execution_count": null,
      "outputs": []
    },
    {
      "metadata": {
        "id": "IljVRLu0UXi0",
        "colab": {
          "base_uri": "https://localhost:8080/",
          "height": 388
        },
        "outputId": "45404b4c-6183-4b47-b60b-bf7b95e098cc"
      },
      "cell_type": "code",
      "source": [
        "# Plotting Training and Validation Loss\n",
        "\n",
        "epochs = range(1, 16)\n",
        "\n",
        "plt.plot(epochs, loss, 'go', label = 'Training Loss')\n",
        "plt.plot(epochs, val_loss, 'g', label = 'Validation Loss')\n",
        "plt.xlabel('Epochs')\n",
        "plt.ylabel('Loss')\n",
        "plt.legend()\n",
        "plt.show()"
      ],
      "execution_count": null,
      "outputs": [
        {
          "output_type": "display_data",
          "data": {
            "image/png": "[encoded data removed]",
            "text/plain": [
              "<matplotlib.figure.Figure at 0x7f0c0c1d22b0>"
            ]
          },
          "metadata": {
            "tags": []
          }
        }
      ]
    },
    {
      "metadata": {
        "id": "MfOv0jqaUY6T",
        "colab": {
          "base_uri": "https://localhost:8080/",
          "height": 388
        },
        "outputId": "67022fbb-4a09-4180-cea4-edbce44f9298"
      },
      "cell_type": "code",
      "source": [
        "# Plotting Training and Validation Accuracy\n",
        "\n",
        "plt.plot(epochs, acc, 'bo', label = 'Training Accuarcy')\n",
        "plt.plot(epochs, val_acc, 'b', label = 'Validation Accuracy')\n",
        "plt.xlabel('Epochs')\n",
        "plt.ylabel('Accuracy')\n",
        "plt.legend()\n",
        "plt.show()"
      ],
      "execution_count": null,
      "outputs": [
        {
          "output_type": "display_data",
          "data": {
            "image/png": "[encoded data removed]",
            "text/plain": [
              "<matplotlib.figure.Figure at 0x7f0c0c1d1ef0>"
            ]
          },
          "metadata": {
            "tags": []
          }
        }
      ]
    },
    {
      "metadata": {
        "id": "V7Mz3tYfUaYL",
        "colab": {
          "base_uri": "https://localhost:8080/",
          "height": 52
        },
        "outputId": "1b9d92ee-ba42-41b6-8686-afabca9e4a97"
      },
      "cell_type": "code",
      "source": [
        "# Testing\n",
        "\n",
        "model.evaluate(X_test, y_test)"
      ],
      "execution_count": null,
      "outputs": [
        {
          "output_type": "stream",
          "text": [
            "25000/25000 [==============================] - 5s 217us/step\n"
          ],
          "name": "stdout"
        },
        {
          "output_type": "execute_result",
          "data": {
            "text/plain": [
              "[1.355736649626866, 0.85348]"
            ]
          },
          "metadata": {
            "tags": []
          },
          "execution_count": 19
        }
      ]
    }
  ]
}