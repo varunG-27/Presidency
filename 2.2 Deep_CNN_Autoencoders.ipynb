{
  "nbformat": 4,
  "nbformat_minor": 0,
  "metadata": {
    "colab": {
      "name": "Deep_CNN_Autoencoders.ipynb",
      "provenance": []
    },
    "kernelspec": {
      "name": "python3",
      "display_name": "Python 3"
    },
    "language_info": {
      "name": "python"
    }
  },
  "cells": [
    {
      "cell_type": "code",
      "execution_count": 8,
      "metadata": {
        "id": "IGM6D5QyFlbQ"
      },
      "outputs": [],
      "source": [
        "from keras.models import  Sequential\n",
        "from keras.layers import Dense, Conv2D, MaxPool2D, UpSampling2D\n",
        "from keras.datasets import mnist\n"
      ]
    },
    {
      "cell_type": "code",
      "source": [
        "from keras.layers.pooling import MaxPooling2D\n",
        "model = Sequential()\n",
        "#create the Encoder Network\n",
        "model.add(Conv2D(30, kernel_size=3, activation='relu', padding = 'same',input_shape=(28,28,1)))\n",
        "model.add(MaxPooling2D(2, padding = 'same'))\n",
        "model.add(Conv2D(15,3,activation='relu', padding = 'same'))\n",
        "model.add(MaxPooling2D(2,padding = 'same'))\n",
        "\n",
        "#create the Decoder Network\n",
        "model.add(Conv2D(15, kernel_size=3, activation='relu', padding = 'same'))\n",
        "model.add(UpSampling2D(2))\n",
        "model.add(Conv2D(30, kernel_size = 3, activation = 'relu', padding = 'same'))\n",
        "model.add(UpSampling2D(2))\n",
        "model.add(Conv2D(1,3,activation='sigmoid', padding = 'same')) #output layer\n",
        "\n"
      ],
      "metadata": {
        "id": "Xka6-xc0Gt4e"
      },
      "execution_count": 14,
      "outputs": []
    },
    {
      "cell_type": "code",
      "source": [
        "model.summary()"
      ],
      "metadata": {
        "colab": {
          "base_uri": "https://localhost:8080/"
        },
        "id": "GnfIZsumJ_KC",
        "outputId": "531b0b0b-d5bd-4e29-bf3b-12a81d9ca9a7"
      },
      "execution_count": 15,
      "outputs": [
        {
          "output_type": "stream",
          "name": "stdout",
          "text": [
            "Model: \"sequential_4\"\n",
            "_________________________________________________________________\n",
            " Layer (type)                Output Shape              Param #   \n",
            "=================================================================\n",
            " conv2d_4 (Conv2D)           (None, 28, 28, 30)        300       \n",
            "                                                                 \n",
            " max_pooling2d_2 (MaxPooling  (None, 14, 14, 30)       0         \n",
            " 2D)                                                             \n",
            "                                                                 \n",
            " conv2d_5 (Conv2D)           (None, 14, 14, 15)        4065      \n",
            "                                                                 \n",
            " max_pooling2d_3 (MaxPooling  (None, 7, 7, 15)         0         \n",
            " 2D)                                                             \n",
            "                                                                 \n",
            " conv2d_6 (Conv2D)           (None, 7, 7, 15)          2040      \n",
            "                                                                 \n",
            " up_sampling2d (UpSampling2D  (None, 14, 14, 15)       0         \n",
            " )                                                               \n",
            "                                                                 \n",
            " conv2d_7 (Conv2D)           (None, 14, 14, 30)        4080      \n",
            "                                                                 \n",
            " up_sampling2d_1 (UpSampling  (None, 28, 28, 30)       0         \n",
            " 2D)                                                             \n",
            "                                                                 \n",
            " conv2d_8 (Conv2D)           (None, 28, 28, 1)         271       \n",
            "                                                                 \n",
            "=================================================================\n",
            "Total params: 10,756\n",
            "Trainable params: 10,756\n",
            "Non-trainable params: 0\n",
            "_________________________________________________________________\n"
          ]
        }
      ]
    },
    {
      "cell_type": "code",
      "source": [
        "model.compile(optimizer='adam', loss = 'binary_crossentropy')"
      ],
      "metadata": {
        "id": "cG_bCa0lKHKP"
      },
      "execution_count": 16,
      "outputs": []
    },
    {
      "cell_type": "code",
      "source": [
        "import numpy as np\n",
        "#load the data and train the model\n",
        "(X_train,_), (X_test, _)= mnist.load_data()\n",
        "X_train= X_train.astype('float32')/255.0\n",
        "X_test = X_test.astype('float32')/255.0\n",
        "X_train = np.reshape(X_train, (len(X_train), 28,28,1))\n",
        "X_valid = X_train[:5000]\n",
        "X_train = X_train[5000:]\n",
        "X_test = np.reshape(X_test, (len(X_test), 28,28,1))"
      ],
      "metadata": {
        "id": "oFuhnANAKkVv"
      },
      "execution_count": 37,
      "outputs": []
    },
    {
      "cell_type": "code",
      "source": [
        "X_valid.shape"
      ],
      "metadata": {
        "colab": {
          "base_uri": "https://localhost:8080/"
        },
        "id": "R2iHXwCJVVPD",
        "outputId": "eae27a9f-0c62-47bd-e746-e46355749551"
      },
      "execution_count": 38,
      "outputs": [
        {
          "output_type": "execute_result",
          "data": {
            "text/plain": [
              "(5000, 28, 28, 1)"
            ]
          },
          "metadata": {},
          "execution_count": 38
        }
      ]
    },
    {
      "cell_type": "code",
      "source": [
        "X_train.shape"
      ],
      "metadata": {
        "colab": {
          "base_uri": "https://localhost:8080/"
        },
        "id": "K51NtgJHNtiG",
        "outputId": "43c675b8-5c49-4e75-f714-ef83a73103c3"
      },
      "execution_count": 39,
      "outputs": [
        {
          "output_type": "execute_result",
          "data": {
            "text/plain": [
              "(55000, 28, 28, 1)"
            ]
          },
          "metadata": {},
          "execution_count": 39
        }
      ]
    },
    {
      "cell_type": "code",
      "source": [
        "X_test.shape"
      ],
      "metadata": {
        "colab": {
          "base_uri": "https://localhost:8080/"
        },
        "id": "IkJl3zv6N0Ye",
        "outputId": "17fc43ba-aae3-49c0-df48-3ee08cb20f43"
      },
      "execution_count": 40,
      "outputs": [
        {
          "output_type": "execute_result",
          "data": {
            "text/plain": [
              "(10000, 28, 28, 1)"
            ]
          },
          "metadata": {},
          "execution_count": 40
        }
      ]
    },
    {
      "cell_type": "code",
      "source": [
        "model.fit(X_train, X_train, epochs = 5,batch_size = 128, validation_data = (X_valid, X_valid))"
      ],
      "metadata": {
        "colab": {
          "base_uri": "https://localhost:8080/"
        },
        "id": "-3n1ZhZdN6n5",
        "outputId": "0f08f8d9-9608-4fcb-de39-2354681407c6"
      },
      "execution_count": 41,
      "outputs": [
        {
          "output_type": "stream",
          "name": "stdout",
          "text": [
            "Epoch 1/5\n",
            "430/430 [==============================] - 119s 276ms/step - loss: 0.0705 - val_loss: 0.0703\n",
            "Epoch 2/5\n",
            "430/430 [==============================] - 118s 275ms/step - loss: 0.0701 - val_loss: 0.0699\n",
            "Epoch 3/5\n",
            "430/430 [==============================] - 119s 277ms/step - loss: 0.0698 - val_loss: 0.0696\n",
            "Epoch 4/5\n",
            "430/430 [==============================] - 119s 276ms/step - loss: 0.0694 - val_loss: 0.0693\n",
            "Epoch 5/5\n",
            "430/430 [==============================] - 118s 275ms/step - loss: 0.0691 - val_loss: 0.0690\n"
          ]
        },
        {
          "output_type": "execute_result",
          "data": {
            "text/plain": [
              "<keras.callbacks.History at 0x7fe387ef4050>"
            ]
          },
          "metadata": {},
          "execution_count": 41
        }
      ]
    },
    {
      "cell_type": "code",
      "source": [
        "import matplotlib.pyplot as plt\n",
        "pred = model.predict(X_test)\n",
        "plt.figure(figsize = (20,4))\n",
        "for i in range(5) :\n",
        "  #display the original image\n",
        "  ax = plt.subplot(2,5,i+1)\n",
        "  plt.imshow(X_test[i].reshape(28,28))\n",
        "  plt.gray()\n",
        "  ax.get_xaxis().set_visible(False)\n",
        "  ax.get_yaxis().set_visible(False)\n",
        "\n",
        "  #display reconstructed image\n",
        "  ax = plt.subplot(2,5, i+5+1)\n",
        "  plt.imshow(pred[i].reshape(28,28))\n",
        "  plt.gray()\n",
        "  ax.get_xaxis().set_visible(False)\n",
        "  ax.get_yaxis().set_visible(False)\n",
        "plt.show()\n",
        "\n"
      ],
      "metadata": {
        "colab": {
          "base_uri": "https://localhost:8080/",
          "height": 163
        },
        "id": "LRRZon7oTCsY",
        "outputId": "1477d8fc-d147-4097-8971-5bc949addeda"
      },
      "execution_count": 42,
      "outputs": [
        {
          "output_type": "display_data",
          "data": {
            "text/plain": [
              "<Figure size 1440x288 with 10 Axes>"
            ],
            "image/png": "[encoded data removed]"
          },
          "metadata": {
            "needs_background": "light"
          }
        }
      ]
    }
  ]
}